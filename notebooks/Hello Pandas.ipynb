{
 "cells": [
  {
   "cell_type": "markdown",
   "id": "3a4ad825",
   "metadata": {},
   "source": [
    "# Hello Pandas"
   ]
  },
  {
   "cell_type": "code",
   "execution_count": 1,
   "id": "5781ee01",
   "metadata": {},
   "outputs": [
    {
     "name": "stdout",
     "output_type": "stream",
     "text": [
      "1.3.4\n"
     ]
    }
   ],
   "source": [
    "import pandas as pd\n",
    "\n",
    "print(pd.__version__)"
   ]
  },
  {
   "cell_type": "code",
   "execution_count": 2,
   "id": "b60d8ffd",
   "metadata": {},
   "outputs": [],
   "source": [
    "from faker import Faker\n",
    "import json\n",
    "\n",
    "faker = Faker()\n",
    "profiles = []\n",
    "for i in range(10):\n",
    "    profiles.append(faker.simple_profile()) \n",
    "\n",
    "df = pd.read_json(json.dumps(profiles, default=str))"
   ]
  },
  {
   "cell_type": "code",
   "execution_count": 3,
   "id": "1709ce92",
   "metadata": {},
   "outputs": [
    {
     "data": {
      "text/html": [
       "<div>\n",
       "<style scoped>\n",
       "    .dataframe tbody tr th:only-of-type {\n",
       "        vertical-align: middle;\n",
       "    }\n",
       "\n",
       "    .dataframe tbody tr th {\n",
       "        vertical-align: top;\n",
       "    }\n",
       "\n",
       "    .dataframe thead th {\n",
       "        text-align: right;\n",
       "    }\n",
       "</style>\n",
       "<table border=\"1\" class=\"dataframe\">\n",
       "  <thead>\n",
       "    <tr style=\"text-align: right;\">\n",
       "      <th></th>\n",
       "      <th>username</th>\n",
       "      <th>name</th>\n",
       "      <th>sex</th>\n",
       "      <th>address</th>\n",
       "      <th>mail</th>\n",
       "      <th>birthdate</th>\n",
       "    </tr>\n",
       "  </thead>\n",
       "  <tbody>\n",
       "    <tr>\n",
       "      <th>0</th>\n",
       "      <td>christy08</td>\n",
       "      <td>Charles Chen</td>\n",
       "      <td>M</td>\n",
       "      <td>06529 Patterson Alley Suite 585\\nPort Kenneth,...</td>\n",
       "      <td>vbrooks@yahoo.com</td>\n",
       "      <td>1963-12-27</td>\n",
       "    </tr>\n",
       "    <tr>\n",
       "      <th>1</th>\n",
       "      <td>hgomez</td>\n",
       "      <td>Brandon Hughes</td>\n",
       "      <td>M</td>\n",
       "      <td>97853 Peters Cliff Suite 138\\nSouth Michael, V...</td>\n",
       "      <td>millercaitlin@gmail.com</td>\n",
       "      <td>1927-12-17</td>\n",
       "    </tr>\n",
       "    <tr>\n",
       "      <th>2</th>\n",
       "      <td>williamsmichael</td>\n",
       "      <td>Daniel Ramos</td>\n",
       "      <td>M</td>\n",
       "      <td>7872 Caldwell Curve Apt. 509\\nWest Jamesville,...</td>\n",
       "      <td>welchkenneth@gmail.com</td>\n",
       "      <td>1952-07-20</td>\n",
       "    </tr>\n",
       "    <tr>\n",
       "      <th>3</th>\n",
       "      <td>kimberlymeadows</td>\n",
       "      <td>Rebecca Hayes</td>\n",
       "      <td>F</td>\n",
       "      <td>10452 Tina Plaza Apt. 206\\nJustinland, OR 01216</td>\n",
       "      <td>zmacdonald@gmail.com</td>\n",
       "      <td>1921-10-14</td>\n",
       "    </tr>\n",
       "    <tr>\n",
       "      <th>4</th>\n",
       "      <td>pennyescobar</td>\n",
       "      <td>Kristy Hill</td>\n",
       "      <td>F</td>\n",
       "      <td>444 Garcia Mills\\nNew Christophermouth, NC 20309</td>\n",
       "      <td>sara85@yahoo.com</td>\n",
       "      <td>1946-08-13</td>\n",
       "    </tr>\n",
       "    <tr>\n",
       "      <th>5</th>\n",
       "      <td>rholland</td>\n",
       "      <td>Lucas Reid</td>\n",
       "      <td>M</td>\n",
       "      <td>844 Amy Glen Apt. 607\\nAutumnchester, RI 77034</td>\n",
       "      <td>irobles@gmail.com</td>\n",
       "      <td>1935-02-13</td>\n",
       "    </tr>\n",
       "    <tr>\n",
       "      <th>6</th>\n",
       "      <td>fullerangela</td>\n",
       "      <td>Aaron Johnson</td>\n",
       "      <td>M</td>\n",
       "      <td>Unit 1744 Box 5577\\nDPO AA 03815</td>\n",
       "      <td>wbarr@gmail.com</td>\n",
       "      <td>1911-10-02</td>\n",
       "    </tr>\n",
       "    <tr>\n",
       "      <th>7</th>\n",
       "      <td>tiffanyrose</td>\n",
       "      <td>Heather Hawkins</td>\n",
       "      <td>F</td>\n",
       "      <td>27022 Nicholas Locks\\nLake Thomasfort, IN 84152</td>\n",
       "      <td>kpena@hotmail.com</td>\n",
       "      <td>1924-11-29</td>\n",
       "    </tr>\n",
       "    <tr>\n",
       "      <th>8</th>\n",
       "      <td>bcontreras</td>\n",
       "      <td>Dr. Laura Francis</td>\n",
       "      <td>F</td>\n",
       "      <td>62949 Carrie Bridge Apt. 137\\nDavischester, OK...</td>\n",
       "      <td>lwilkins@hotmail.com</td>\n",
       "      <td>1972-01-06</td>\n",
       "    </tr>\n",
       "    <tr>\n",
       "      <th>9</th>\n",
       "      <td>lewisnicole</td>\n",
       "      <td>Jacqueline Jones</td>\n",
       "      <td>F</td>\n",
       "      <td>16762 Keith Summit\\nBurkeborough, MT 39057</td>\n",
       "      <td>rachel15@hotmail.com</td>\n",
       "      <td>1993-12-02</td>\n",
       "    </tr>\n",
       "  </tbody>\n",
       "</table>\n",
       "</div>"
      ],
      "text/plain": [
       "          username               name sex  \\\n",
       "0        christy08       Charles Chen   M   \n",
       "1           hgomez     Brandon Hughes   M   \n",
       "2  williamsmichael       Daniel Ramos   M   \n",
       "3  kimberlymeadows      Rebecca Hayes   F   \n",
       "4     pennyescobar        Kristy Hill   F   \n",
       "5         rholland         Lucas Reid   M   \n",
       "6     fullerangela      Aaron Johnson   M   \n",
       "7      tiffanyrose    Heather Hawkins   F   \n",
       "8       bcontreras  Dr. Laura Francis   F   \n",
       "9      lewisnicole   Jacqueline Jones   F   \n",
       "\n",
       "                                             address                     mail  \\\n",
       "0  06529 Patterson Alley Suite 585\\nPort Kenneth,...        vbrooks@yahoo.com   \n",
       "1  97853 Peters Cliff Suite 138\\nSouth Michael, V...  millercaitlin@gmail.com   \n",
       "2  7872 Caldwell Curve Apt. 509\\nWest Jamesville,...   welchkenneth@gmail.com   \n",
       "3    10452 Tina Plaza Apt. 206\\nJustinland, OR 01216     zmacdonald@gmail.com   \n",
       "4   444 Garcia Mills\\nNew Christophermouth, NC 20309         sara85@yahoo.com   \n",
       "5     844 Amy Glen Apt. 607\\nAutumnchester, RI 77034        irobles@gmail.com   \n",
       "6                   Unit 1744 Box 5577\\nDPO AA 03815          wbarr@gmail.com   \n",
       "7    27022 Nicholas Locks\\nLake Thomasfort, IN 84152        kpena@hotmail.com   \n",
       "8  62949 Carrie Bridge Apt. 137\\nDavischester, OK...     lwilkins@hotmail.com   \n",
       "9         16762 Keith Summit\\nBurkeborough, MT 39057     rachel15@hotmail.com   \n",
       "\n",
       "    birthdate  \n",
       "0  1963-12-27  \n",
       "1  1927-12-17  \n",
       "2  1952-07-20  \n",
       "3  1921-10-14  \n",
       "4  1946-08-13  \n",
       "5  1935-02-13  \n",
       "6  1911-10-02  \n",
       "7  1924-11-29  \n",
       "8  1972-01-06  \n",
       "9  1993-12-02  "
      ]
     },
     "execution_count": 3,
     "metadata": {},
     "output_type": "execute_result"
    }
   ],
   "source": [
    "df"
   ]
  },
  {
   "cell_type": "code",
   "execution_count": null,
   "id": "1b0c0340-ffec-4fb1-b59b-c93f59c484a1",
   "metadata": {},
   "outputs": [],
   "source": []
  }
 ],
 "metadata": {
  "interpreter": {
   "hash": "81c2b4fa8186b1684054c4c10baa01ae13963e9865b12edbe7cf659b7d16f503"
  },
  "kernelspec": {
   "display_name": "Python 3 (ipykernel)",
   "language": "python",
   "name": "python3"
  },
  "language_info": {
   "codemirror_mode": {
    "name": "ipython",
    "version": 3
   },
   "file_extension": ".py",
   "mimetype": "text/x-python",
   "name": "python",
   "nbconvert_exporter": "python",
   "pygments_lexer": "ipython3",
   "version": "3.9.7"
  },
  "metadata": {
   "interpreter": {
    "hash": "cc6df05e281e868f0d80b79375172a1c275a91f2edbb49f4745d4627ea04bf12"
   }
  }
 },
 "nbformat": 4,
 "nbformat_minor": 5
}

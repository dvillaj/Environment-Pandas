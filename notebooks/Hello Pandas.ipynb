{
 "cells": [
  {
   "cell_type": "markdown",
   "id": "3a4ad825",
   "metadata": {},
   "source": [
    "# Hello Pandas"
   ]
  },
  {
   "cell_type": "code",
   "execution_count": 1,
   "id": "5781ee01",
   "metadata": {},
   "outputs": [
    {
     "name": "stdout",
     "output_type": "stream",
     "text": [
      "1.3.3\n"
     ]
    }
   ],
   "source": [
    "import pandas as pd\r\n",
    "\r\n",
    "print(pd.__version__)"
   ]
  },
  {
   "cell_type": "code",
   "execution_count": 2,
   "id": "b60d8ffd",
   "metadata": {},
   "outputs": [],
   "source": [
    "from faker import Faker\r\n",
    "import json\r\n",
    "\r\n",
    "faker = Faker()\r\n",
    "profiles = []\r\n",
    "for i in range(10):\r\n",
    "    profiles.append(faker.simple_profile()) \r\n",
    "\r\n",
    "df = pd.read_json(json.dumps(profiles, default=str))"
   ]
  },
  {
   "cell_type": "code",
   "execution_count": 3,
   "id": "1709ce92",
   "metadata": {},
   "outputs": [
    {
     "data": {
      "text/html": [
       "<div>\n",
       "<style scoped>\n",
       "    .dataframe tbody tr th:only-of-type {\n",
       "        vertical-align: middle;\n",
       "    }\n",
       "\n",
       "    .dataframe tbody tr th {\n",
       "        vertical-align: top;\n",
       "    }\n",
       "\n",
       "    .dataframe thead th {\n",
       "        text-align: right;\n",
       "    }\n",
       "</style>\n",
       "<table border=\"1\" class=\"dataframe\">\n",
       "  <thead>\n",
       "    <tr style=\"text-align: right;\">\n",
       "      <th></th>\n",
       "      <th>username</th>\n",
       "      <th>name</th>\n",
       "      <th>sex</th>\n",
       "      <th>address</th>\n",
       "      <th>mail</th>\n",
       "      <th>birthdate</th>\n",
       "    </tr>\n",
       "  </thead>\n",
       "  <tbody>\n",
       "    <tr>\n",
       "      <th>0</th>\n",
       "      <td>turnerrobert</td>\n",
       "      <td>Erica Smith</td>\n",
       "      <td>F</td>\n",
       "      <td>PSC 7030, Box 6323\\nAPO AP 59921</td>\n",
       "      <td>edickerson@gmail.com</td>\n",
       "      <td>1950-05-20</td>\n",
       "    </tr>\n",
       "    <tr>\n",
       "      <th>1</th>\n",
       "      <td>randy92</td>\n",
       "      <td>Daniel Lee</td>\n",
       "      <td>M</td>\n",
       "      <td>91725 Kristine Flats\\nKatrinaburgh, SC 53777</td>\n",
       "      <td>pattersondonald@hotmail.com</td>\n",
       "      <td>1988-04-08</td>\n",
       "    </tr>\n",
       "    <tr>\n",
       "      <th>2</th>\n",
       "      <td>janet96</td>\n",
       "      <td>Carolyn Harrison</td>\n",
       "      <td>F</td>\n",
       "      <td>14772 Hanson Vista Suite 964\\nJesusport, SD 85893</td>\n",
       "      <td>gabrielawaller@hotmail.com</td>\n",
       "      <td>1978-08-03</td>\n",
       "    </tr>\n",
       "    <tr>\n",
       "      <th>3</th>\n",
       "      <td>smartin</td>\n",
       "      <td>Craig Reeves</td>\n",
       "      <td>M</td>\n",
       "      <td>240 Turner Bridge Apt. 848\\nNorth Kimberlyview...</td>\n",
       "      <td>robert55@hotmail.com</td>\n",
       "      <td>1975-02-24</td>\n",
       "    </tr>\n",
       "    <tr>\n",
       "      <th>4</th>\n",
       "      <td>sforbes</td>\n",
       "      <td>James Parsons</td>\n",
       "      <td>M</td>\n",
       "      <td>6824 Winters Wells Suite 420\\nElizabethberg, M...</td>\n",
       "      <td>daniel39@gmail.com</td>\n",
       "      <td>1927-05-23</td>\n",
       "    </tr>\n",
       "    <tr>\n",
       "      <th>5</th>\n",
       "      <td>nathanchapman</td>\n",
       "      <td>David Stewart</td>\n",
       "      <td>M</td>\n",
       "      <td>7558 Kathryn Wall Suite 290\\nJonathonfurt, NM ...</td>\n",
       "      <td>angelabutler@gmail.com</td>\n",
       "      <td>2012-06-20</td>\n",
       "    </tr>\n",
       "    <tr>\n",
       "      <th>6</th>\n",
       "      <td>stacy73</td>\n",
       "      <td>Sharon Scott</td>\n",
       "      <td>F</td>\n",
       "      <td>26113 Mcbride Lights\\nAndersonhaven, ND 05981</td>\n",
       "      <td>karenlarson@gmail.com</td>\n",
       "      <td>2007-12-17</td>\n",
       "    </tr>\n",
       "    <tr>\n",
       "      <th>7</th>\n",
       "      <td>derrickcole</td>\n",
       "      <td>Kathleen Whitney</td>\n",
       "      <td>F</td>\n",
       "      <td>5987 Kenneth Inlet\\nJenniferstad, SD 81656</td>\n",
       "      <td>velasquezapril@gmail.com</td>\n",
       "      <td>1945-04-22</td>\n",
       "    </tr>\n",
       "    <tr>\n",
       "      <th>8</th>\n",
       "      <td>juarezkimberly</td>\n",
       "      <td>Joseph Campbell</td>\n",
       "      <td>M</td>\n",
       "      <td>4103 George Island Apt. 010\\nSheenamouth, NV 9...</td>\n",
       "      <td>sullivanwilliam@gmail.com</td>\n",
       "      <td>1944-10-28</td>\n",
       "    </tr>\n",
       "    <tr>\n",
       "      <th>9</th>\n",
       "      <td>davissarah</td>\n",
       "      <td>Ruth Padilla</td>\n",
       "      <td>F</td>\n",
       "      <td>5664 Diane Underpass Apt. 279\\nNew Christian, ...</td>\n",
       "      <td>ebriggs@hotmail.com</td>\n",
       "      <td>1913-03-21</td>\n",
       "    </tr>\n",
       "  </tbody>\n",
       "</table>\n",
       "</div>"
      ],
      "text/plain": [
       "         username              name sex  \\\n",
       "0    turnerrobert       Erica Smith   F   \n",
       "1         randy92        Daniel Lee   M   \n",
       "2         janet96  Carolyn Harrison   F   \n",
       "3         smartin      Craig Reeves   M   \n",
       "4         sforbes     James Parsons   M   \n",
       "5   nathanchapman     David Stewart   M   \n",
       "6         stacy73      Sharon Scott   F   \n",
       "7     derrickcole  Kathleen Whitney   F   \n",
       "8  juarezkimberly   Joseph Campbell   M   \n",
       "9      davissarah      Ruth Padilla   F   \n",
       "\n",
       "                                             address  \\\n",
       "0                   PSC 7030, Box 6323\\nAPO AP 59921   \n",
       "1       91725 Kristine Flats\\nKatrinaburgh, SC 53777   \n",
       "2  14772 Hanson Vista Suite 964\\nJesusport, SD 85893   \n",
       "3  240 Turner Bridge Apt. 848\\nNorth Kimberlyview...   \n",
       "4  6824 Winters Wells Suite 420\\nElizabethberg, M...   \n",
       "5  7558 Kathryn Wall Suite 290\\nJonathonfurt, NM ...   \n",
       "6      26113 Mcbride Lights\\nAndersonhaven, ND 05981   \n",
       "7         5987 Kenneth Inlet\\nJenniferstad, SD 81656   \n",
       "8  4103 George Island Apt. 010\\nSheenamouth, NV 9...   \n",
       "9  5664 Diane Underpass Apt. 279\\nNew Christian, ...   \n",
       "\n",
       "                          mail   birthdate  \n",
       "0         edickerson@gmail.com  1950-05-20  \n",
       "1  pattersondonald@hotmail.com  1988-04-08  \n",
       "2   gabrielawaller@hotmail.com  1978-08-03  \n",
       "3         robert55@hotmail.com  1975-02-24  \n",
       "4           daniel39@gmail.com  1927-05-23  \n",
       "5       angelabutler@gmail.com  2012-06-20  \n",
       "6        karenlarson@gmail.com  2007-12-17  \n",
       "7     velasquezapril@gmail.com  1945-04-22  \n",
       "8    sullivanwilliam@gmail.com  1944-10-28  \n",
       "9          ebriggs@hotmail.com  1913-03-21  "
      ]
     },
     "execution_count": 3,
     "metadata": {},
     "output_type": "execute_result"
    }
   ],
   "source": [
    "df"
   ]
  }
 ],
 "metadata": {
  "interpreter": {
   "hash": "81c2b4fa8186b1684054c4c10baa01ae13963e9865b12edbe7cf659b7d16f503"
  },
  "kernelspec": {
   "display_name": "Python 3 (ipykernel)",
   "language": "python",
   "name": "python3"
  },
  "language_info": {
   "codemirror_mode": {
    "name": "ipython",
    "version": 3
   },
   "file_extension": ".py",
   "mimetype": "text/x-python",
   "name": "python",
   "nbconvert_exporter": "python",
   "pygments_lexer": "ipython3",
   "version": "3.9.7"
  },
  "metadata": {
   "interpreter": {
    "hash": "cc6df05e281e868f0d80b79375172a1c275a91f2edbb49f4745d4627ea04bf12"
   }
  }
 },
 "nbformat": 4,
 "nbformat_minor": 5
}

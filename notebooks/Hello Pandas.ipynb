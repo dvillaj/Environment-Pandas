{
 "cells": [
  {
   "cell_type": "markdown",
   "id": "3a4ad825",
   "metadata": {},
   "source": [
    "# Hello Pandas"
   ]
  },
  {
   "cell_type": "code",
   "execution_count": 1,
   "id": "5781ee01",
   "metadata": {},
   "outputs": [
    {
     "name": "stdout",
     "output_type": "stream",
     "text": [
      "1.3.4\n"
     ]
    }
   ],
   "source": [
    "import pandas as pd\n",
    "\n",
    "print(pd.__version__)"
   ]
  },
  {
   "cell_type": "code",
   "execution_count": 2,
   "id": "b60d8ffd",
   "metadata": {},
   "outputs": [],
   "source": [
    "from faker import Faker\n",
    "import json\n",
    "\n",
    "faker = Faker()\n",
    "profiles = []\n",
    "for i in range(10):\n",
    "    profiles.append(faker.simple_profile()) \n",
    "\n",
    "df = pd.read_json(json.dumps(profiles, default=str))"
   ]
  },
  {
   "cell_type": "code",
   "execution_count": 3,
   "id": "1709ce92",
   "metadata": {},
   "outputs": [
    {
     "data": {
      "text/html": [
       "<div>\n",
       "<style scoped>\n",
       "    .dataframe tbody tr th:only-of-type {\n",
       "        vertical-align: middle;\n",
       "    }\n",
       "\n",
       "    .dataframe tbody tr th {\n",
       "        vertical-align: top;\n",
       "    }\n",
       "\n",
       "    .dataframe thead th {\n",
       "        text-align: right;\n",
       "    }\n",
       "</style>\n",
       "<table border=\"1\" class=\"dataframe\">\n",
       "  <thead>\n",
       "    <tr style=\"text-align: right;\">\n",
       "      <th></th>\n",
       "      <th>username</th>\n",
       "      <th>name</th>\n",
       "      <th>sex</th>\n",
       "      <th>address</th>\n",
       "      <th>mail</th>\n",
       "      <th>birthdate</th>\n",
       "    </tr>\n",
       "  </thead>\n",
       "  <tbody>\n",
       "    <tr>\n",
       "      <th>0</th>\n",
       "      <td>elizabethmaxwell</td>\n",
       "      <td>Jeffery Welch</td>\n",
       "      <td>M</td>\n",
       "      <td>1812 Lang Harbors Suite 865\\nSeanside, NH 98052</td>\n",
       "      <td>hicksbrian@gmail.com</td>\n",
       "      <td>1952-03-28</td>\n",
       "    </tr>\n",
       "    <tr>\n",
       "      <th>1</th>\n",
       "      <td>ygarcia</td>\n",
       "      <td>William Quinn</td>\n",
       "      <td>M</td>\n",
       "      <td>Unit 2444 Box 8475\\nDPO AP 13688</td>\n",
       "      <td>jacquelinephillips@yahoo.com</td>\n",
       "      <td>1933-08-08</td>\n",
       "    </tr>\n",
       "    <tr>\n",
       "      <th>2</th>\n",
       "      <td>devin72</td>\n",
       "      <td>Edward Thomas</td>\n",
       "      <td>M</td>\n",
       "      <td>821 Rodriguez Row\\nJacobmouth, AR 48626</td>\n",
       "      <td>kayla79@hotmail.com</td>\n",
       "      <td>1985-11-17</td>\n",
       "    </tr>\n",
       "    <tr>\n",
       "      <th>3</th>\n",
       "      <td>wilsonkevin</td>\n",
       "      <td>Karen Singh</td>\n",
       "      <td>F</td>\n",
       "      <td>5250 Jones Mountain\\nBrianchester, TN 61358</td>\n",
       "      <td>cburnett@hotmail.com</td>\n",
       "      <td>1922-11-06</td>\n",
       "    </tr>\n",
       "    <tr>\n",
       "      <th>4</th>\n",
       "      <td>xbenson</td>\n",
       "      <td>Mr. Richard Kennedy</td>\n",
       "      <td>M</td>\n",
       "      <td>29427 Michael Rest\\nNicolemouth, CT 16967</td>\n",
       "      <td>samanthabell@hotmail.com</td>\n",
       "      <td>1940-03-23</td>\n",
       "    </tr>\n",
       "    <tr>\n",
       "      <th>5</th>\n",
       "      <td>paulsmith</td>\n",
       "      <td>Patrick Haynes</td>\n",
       "      <td>M</td>\n",
       "      <td>66048 Bennett Pike Suite 872\\nEast Robert, PA ...</td>\n",
       "      <td>acochran@hotmail.com</td>\n",
       "      <td>2004-05-13</td>\n",
       "    </tr>\n",
       "    <tr>\n",
       "      <th>6</th>\n",
       "      <td>christopherwelch</td>\n",
       "      <td>Matthew Davis</td>\n",
       "      <td>M</td>\n",
       "      <td>842 White Shoal Apt. 048\\nBrownmouth, TN 28575</td>\n",
       "      <td>lopezdiane@hotmail.com</td>\n",
       "      <td>1986-10-02</td>\n",
       "    </tr>\n",
       "    <tr>\n",
       "      <th>7</th>\n",
       "      <td>anthonytanner</td>\n",
       "      <td>Kathleen Sparks</td>\n",
       "      <td>F</td>\n",
       "      <td>549 Meagan Brook Suite 213\\nEast Beverlyshire,...</td>\n",
       "      <td>lyoung@hotmail.com</td>\n",
       "      <td>1989-11-15</td>\n",
       "    </tr>\n",
       "    <tr>\n",
       "      <th>8</th>\n",
       "      <td>zsmith</td>\n",
       "      <td>Savannah Mendez</td>\n",
       "      <td>F</td>\n",
       "      <td>9158 Lewis Road\\nNguyenborough, WY 44261</td>\n",
       "      <td>carl58@hotmail.com</td>\n",
       "      <td>1968-04-23</td>\n",
       "    </tr>\n",
       "    <tr>\n",
       "      <th>9</th>\n",
       "      <td>justinbradley</td>\n",
       "      <td>Lucas Lewis</td>\n",
       "      <td>M</td>\n",
       "      <td>00394 Martin Glen\\nEast Shane, IN 02915</td>\n",
       "      <td>laurawade@gmail.com</td>\n",
       "      <td>1911-02-16</td>\n",
       "    </tr>\n",
       "  </tbody>\n",
       "</table>\n",
       "</div>"
      ],
      "text/plain": [
       "           username                 name sex  \\\n",
       "0  elizabethmaxwell        Jeffery Welch   M   \n",
       "1           ygarcia        William Quinn   M   \n",
       "2           devin72        Edward Thomas   M   \n",
       "3       wilsonkevin          Karen Singh   F   \n",
       "4           xbenson  Mr. Richard Kennedy   M   \n",
       "5         paulsmith       Patrick Haynes   M   \n",
       "6  christopherwelch        Matthew Davis   M   \n",
       "7     anthonytanner      Kathleen Sparks   F   \n",
       "8            zsmith      Savannah Mendez   F   \n",
       "9     justinbradley          Lucas Lewis   M   \n",
       "\n",
       "                                             address  \\\n",
       "0    1812 Lang Harbors Suite 865\\nSeanside, NH 98052   \n",
       "1                   Unit 2444 Box 8475\\nDPO AP 13688   \n",
       "2            821 Rodriguez Row\\nJacobmouth, AR 48626   \n",
       "3        5250 Jones Mountain\\nBrianchester, TN 61358   \n",
       "4          29427 Michael Rest\\nNicolemouth, CT 16967   \n",
       "5  66048 Bennett Pike Suite 872\\nEast Robert, PA ...   \n",
       "6     842 White Shoal Apt. 048\\nBrownmouth, TN 28575   \n",
       "7  549 Meagan Brook Suite 213\\nEast Beverlyshire,...   \n",
       "8           9158 Lewis Road\\nNguyenborough, WY 44261   \n",
       "9            00394 Martin Glen\\nEast Shane, IN 02915   \n",
       "\n",
       "                           mail   birthdate  \n",
       "0          hicksbrian@gmail.com  1952-03-28  \n",
       "1  jacquelinephillips@yahoo.com  1933-08-08  \n",
       "2           kayla79@hotmail.com  1985-11-17  \n",
       "3          cburnett@hotmail.com  1922-11-06  \n",
       "4      samanthabell@hotmail.com  1940-03-23  \n",
       "5          acochran@hotmail.com  2004-05-13  \n",
       "6        lopezdiane@hotmail.com  1986-10-02  \n",
       "7            lyoung@hotmail.com  1989-11-15  \n",
       "8            carl58@hotmail.com  1968-04-23  \n",
       "9           laurawade@gmail.com  1911-02-16  "
      ]
     },
     "execution_count": 3,
     "metadata": {},
     "output_type": "execute_result"
    }
   ],
   "source": [
    "df"
   ]
  },
  {
   "cell_type": "code",
   "execution_count": null,
   "id": "1b0c0340-ffec-4fb1-b59b-c93f59c484a1",
   "metadata": {},
   "outputs": [],
   "source": []
  }
 ],
 "metadata": {
  "interpreter": {
   "hash": "81c2b4fa8186b1684054c4c10baa01ae13963e9865b12edbe7cf659b7d16f503"
  },
  "kernelspec": {
   "display_name": "Python 3 (ipykernel)",
   "language": "python",
   "name": "python3"
  },
  "language_info": {
   "codemirror_mode": {
    "name": "ipython",
    "version": 3
   },
   "file_extension": ".py",
   "mimetype": "text/x-python",
   "name": "python",
   "nbconvert_exporter": "python",
   "pygments_lexer": "ipython3",
   "version": "3.9.7"
  },
  "metadata": {
   "interpreter": {
    "hash": "cc6df05e281e868f0d80b79375172a1c275a91f2edbb49f4745d4627ea04bf12"
   }
  }
 },
 "nbformat": 4,
 "nbformat_minor": 5
}

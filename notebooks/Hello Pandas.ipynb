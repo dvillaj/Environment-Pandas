{
 "cells": [
  {
   "cell_type": "markdown",
   "id": "3a4ad825",
   "metadata": {},
   "source": [
    "# Hello Pandas"
   ]
  },
  {
   "cell_type": "code",
   "execution_count": 1,
   "id": "5781ee01",
   "metadata": {},
   "outputs": [
    {
     "name": "stdout",
     "output_type": "stream",
     "text": [
      "1.5.1\n"
     ]
    }
   ],
   "source": [
    "import pandas as pd\n",
    "\n",
    "print(pd.__version__)"
   ]
  },
  {
   "cell_type": "code",
   "execution_count": 2,
   "id": "b60d8ffd",
   "metadata": {},
   "outputs": [],
   "source": [
    "from faker import Faker\n",
    "import json\n",
    "\n",
    "faker = Faker()\n",
    "profiles = []\n",
    "for i in range(10):\n",
    "    profiles.append(faker.simple_profile()) \n",
    "\n",
    "df = pd.read_json(json.dumps(profiles, default=str))"
   ]
  },
  {
   "cell_type": "code",
   "execution_count": 3,
   "id": "1709ce92",
   "metadata": {},
   "outputs": [
    {
     "data": {
      "text/html": [
       "<div>\n",
       "<style scoped>\n",
       "    .dataframe tbody tr th:only-of-type {\n",
       "        vertical-align: middle;\n",
       "    }\n",
       "\n",
       "    .dataframe tbody tr th {\n",
       "        vertical-align: top;\n",
       "    }\n",
       "\n",
       "    .dataframe thead th {\n",
       "        text-align: right;\n",
       "    }\n",
       "</style>\n",
       "<table border=\"1\" class=\"dataframe\">\n",
       "  <thead>\n",
       "    <tr style=\"text-align: right;\">\n",
       "      <th></th>\n",
       "      <th>username</th>\n",
       "      <th>name</th>\n",
       "      <th>sex</th>\n",
       "      <th>address</th>\n",
       "      <th>mail</th>\n",
       "      <th>birthdate</th>\n",
       "    </tr>\n",
       "  </thead>\n",
       "  <tbody>\n",
       "    <tr>\n",
       "      <th>0</th>\n",
       "      <td>iobrien</td>\n",
       "      <td>James Price</td>\n",
       "      <td>M</td>\n",
       "      <td>90320 Paul Haven Suite 501\\nEast Heatherport, ...</td>\n",
       "      <td>oallen@hotmail.com</td>\n",
       "      <td>1914-10-26</td>\n",
       "    </tr>\n",
       "    <tr>\n",
       "      <th>1</th>\n",
       "      <td>jonesjennifer</td>\n",
       "      <td>Jill Bradford MD</td>\n",
       "      <td>F</td>\n",
       "      <td>38513 Anthony Manors\\nNorth Samantha, DE 44542</td>\n",
       "      <td>bakerchristopher@yahoo.com</td>\n",
       "      <td>1995-03-16</td>\n",
       "    </tr>\n",
       "    <tr>\n",
       "      <th>2</th>\n",
       "      <td>kenneth54</td>\n",
       "      <td>Matthew Smith</td>\n",
       "      <td>M</td>\n",
       "      <td>7135 Randall Shore Suite 847\\nEast Christinesh...</td>\n",
       "      <td>christinawilliams@gmail.com</td>\n",
       "      <td>1992-03-27</td>\n",
       "    </tr>\n",
       "    <tr>\n",
       "      <th>3</th>\n",
       "      <td>amy59</td>\n",
       "      <td>Jennifer Gray</td>\n",
       "      <td>F</td>\n",
       "      <td>PSC 2710, Box 0177\\nAPO AA 13698</td>\n",
       "      <td>jenniferhernandez@hotmail.com</td>\n",
       "      <td>1909-09-14</td>\n",
       "    </tr>\n",
       "    <tr>\n",
       "      <th>4</th>\n",
       "      <td>davisanna</td>\n",
       "      <td>Steven Simmons</td>\n",
       "      <td>M</td>\n",
       "      <td>2140 Woodard Lane\\nEast Alyssatown, KY 04987</td>\n",
       "      <td>rlee@yahoo.com</td>\n",
       "      <td>2000-05-04</td>\n",
       "    </tr>\n",
       "    <tr>\n",
       "      <th>5</th>\n",
       "      <td>blackgary</td>\n",
       "      <td>Adam Huffman</td>\n",
       "      <td>M</td>\n",
       "      <td>3323 Santos Stream Apt. 820\\nDorisbury, SC 40886</td>\n",
       "      <td>millermallory@hotmail.com</td>\n",
       "      <td>2011-02-07</td>\n",
       "    </tr>\n",
       "    <tr>\n",
       "      <th>6</th>\n",
       "      <td>patricia13</td>\n",
       "      <td>Jessica Williams</td>\n",
       "      <td>F</td>\n",
       "      <td>6211 Michael Points\\nWest Laura, ID 39352</td>\n",
       "      <td>norma02@gmail.com</td>\n",
       "      <td>1915-07-25</td>\n",
       "    </tr>\n",
       "    <tr>\n",
       "      <th>7</th>\n",
       "      <td>steven73</td>\n",
       "      <td>Jennifer Miller</td>\n",
       "      <td>F</td>\n",
       "      <td>003 Scott Landing\\nLake Dennis, RI 73681</td>\n",
       "      <td>taylorkatie@gmail.com</td>\n",
       "      <td>1991-09-06</td>\n",
       "    </tr>\n",
       "    <tr>\n",
       "      <th>8</th>\n",
       "      <td>allenthomas</td>\n",
       "      <td>Cheryl Richard</td>\n",
       "      <td>F</td>\n",
       "      <td>824 Jackson Islands Apt. 466\\nMitchellstad, TN...</td>\n",
       "      <td>jduncan@gmail.com</td>\n",
       "      <td>1992-03-27</td>\n",
       "    </tr>\n",
       "    <tr>\n",
       "      <th>9</th>\n",
       "      <td>nbrooks</td>\n",
       "      <td>Adam Patrick</td>\n",
       "      <td>M</td>\n",
       "      <td>PSC 6009, Box 3140\\nAPO AP 97751</td>\n",
       "      <td>brookeknight@gmail.com</td>\n",
       "      <td>1953-10-07</td>\n",
       "    </tr>\n",
       "  </tbody>\n",
       "</table>\n",
       "</div>"
      ],
      "text/plain": [
       "        username              name sex  \\\n",
       "0        iobrien       James Price   M   \n",
       "1  jonesjennifer  Jill Bradford MD   F   \n",
       "2      kenneth54     Matthew Smith   M   \n",
       "3          amy59     Jennifer Gray   F   \n",
       "4      davisanna    Steven Simmons   M   \n",
       "5      blackgary      Adam Huffman   M   \n",
       "6     patricia13  Jessica Williams   F   \n",
       "7       steven73   Jennifer Miller   F   \n",
       "8    allenthomas    Cheryl Richard   F   \n",
       "9        nbrooks      Adam Patrick   M   \n",
       "\n",
       "                                             address  \\\n",
       "0  90320 Paul Haven Suite 501\\nEast Heatherport, ...   \n",
       "1     38513 Anthony Manors\\nNorth Samantha, DE 44542   \n",
       "2  7135 Randall Shore Suite 847\\nEast Christinesh...   \n",
       "3                   PSC 2710, Box 0177\\nAPO AA 13698   \n",
       "4       2140 Woodard Lane\\nEast Alyssatown, KY 04987   \n",
       "5   3323 Santos Stream Apt. 820\\nDorisbury, SC 40886   \n",
       "6          6211 Michael Points\\nWest Laura, ID 39352   \n",
       "7           003 Scott Landing\\nLake Dennis, RI 73681   \n",
       "8  824 Jackson Islands Apt. 466\\nMitchellstad, TN...   \n",
       "9                   PSC 6009, Box 3140\\nAPO AP 97751   \n",
       "\n",
       "                            mail   birthdate  \n",
       "0             oallen@hotmail.com  1914-10-26  \n",
       "1     bakerchristopher@yahoo.com  1995-03-16  \n",
       "2    christinawilliams@gmail.com  1992-03-27  \n",
       "3  jenniferhernandez@hotmail.com  1909-09-14  \n",
       "4                 rlee@yahoo.com  2000-05-04  \n",
       "5      millermallory@hotmail.com  2011-02-07  \n",
       "6              norma02@gmail.com  1915-07-25  \n",
       "7          taylorkatie@gmail.com  1991-09-06  \n",
       "8              jduncan@gmail.com  1992-03-27  \n",
       "9         brookeknight@gmail.com  1953-10-07  "
      ]
     },
     "execution_count": 3,
     "metadata": {},
     "output_type": "execute_result"
    }
   ],
   "source": [
    "df"
   ]
  },
  {
   "cell_type": "code",
   "execution_count": null,
   "id": "1b0c0340-ffec-4fb1-b59b-c93f59c484a1",
   "metadata": {},
   "outputs": [],
   "source": []
  }
 ],
 "metadata": {
  "interpreter": {
   "hash": "81c2b4fa8186b1684054c4c10baa01ae13963e9865b12edbe7cf659b7d16f503"
  },
  "kernelspec": {
   "display_name": "Python 3 (ipykernel)",
   "language": "python",
   "name": "python3"
  },
  "language_info": {
   "codemirror_mode": {
    "name": "ipython",
    "version": 3
   },
   "file_extension": ".py",
   "mimetype": "text/x-python",
   "name": "python",
   "nbconvert_exporter": "python",
   "pygments_lexer": "ipython3",
   "version": "3.9.13"
  },
  "metadata": {
   "interpreter": {
    "hash": "cc6df05e281e868f0d80b79375172a1c275a91f2edbb49f4745d4627ea04bf12"
   }
  }
 },
 "nbformat": 4,
 "nbformat_minor": 5
}

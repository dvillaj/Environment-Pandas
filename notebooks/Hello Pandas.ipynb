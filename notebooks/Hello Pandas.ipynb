{
 "cells": [
  {
   "cell_type": "markdown",
   "id": "3a4ad825",
   "metadata": {},
   "source": [
    "# Hello Pandas"
   ]
  },
  {
   "cell_type": "code",
   "execution_count": 1,
   "id": "5781ee01",
   "metadata": {},
   "outputs": [
    {
     "name": "stdout",
     "output_type": "stream",
     "text": [
      "1.3.5\n"
     ]
    }
   ],
   "source": [
    "import pandas as pd\n",
    "\n",
    "print(pd.__version__)"
   ]
  },
  {
   "cell_type": "code",
   "execution_count": 2,
   "id": "b60d8ffd",
   "metadata": {},
   "outputs": [],
   "source": [
    "from faker import Faker\n",
    "import json\n",
    "\n",
    "faker = Faker()\n",
    "profiles = []\n",
    "for i in range(10):\n",
    "    profiles.append(faker.simple_profile()) \n",
    "\n",
    "df = pd.read_json(json.dumps(profiles, default=str))"
   ]
  },
  {
   "cell_type": "code",
   "execution_count": 3,
   "id": "1709ce92",
   "metadata": {},
   "outputs": [
    {
     "data": {
      "text/html": [
       "<div>\n",
       "<style scoped>\n",
       "    .dataframe tbody tr th:only-of-type {\n",
       "        vertical-align: middle;\n",
       "    }\n",
       "\n",
       "    .dataframe tbody tr th {\n",
       "        vertical-align: top;\n",
       "    }\n",
       "\n",
       "    .dataframe thead th {\n",
       "        text-align: right;\n",
       "    }\n",
       "</style>\n",
       "<table border=\"1\" class=\"dataframe\">\n",
       "  <thead>\n",
       "    <tr style=\"text-align: right;\">\n",
       "      <th></th>\n",
       "      <th>username</th>\n",
       "      <th>name</th>\n",
       "      <th>sex</th>\n",
       "      <th>address</th>\n",
       "      <th>mail</th>\n",
       "      <th>birthdate</th>\n",
       "    </tr>\n",
       "  </thead>\n",
       "  <tbody>\n",
       "    <tr>\n",
       "      <th>0</th>\n",
       "      <td>michael52</td>\n",
       "      <td>Timothy Lee</td>\n",
       "      <td>M</td>\n",
       "      <td>50559 Raymond Ford\\nJohnchester, IN 83781</td>\n",
       "      <td>franklinsabrina@yahoo.com</td>\n",
       "      <td>2000-12-01</td>\n",
       "    </tr>\n",
       "    <tr>\n",
       "      <th>1</th>\n",
       "      <td>pittssarah</td>\n",
       "      <td>Angela Braun</td>\n",
       "      <td>F</td>\n",
       "      <td>38941 Anthony Village\\nNorth Kevin, DE 23411</td>\n",
       "      <td>fsmith@yahoo.com</td>\n",
       "      <td>1983-12-22</td>\n",
       "    </tr>\n",
       "    <tr>\n",
       "      <th>2</th>\n",
       "      <td>brandon43</td>\n",
       "      <td>Nicole Huang</td>\n",
       "      <td>F</td>\n",
       "      <td>257 Nicholas Squares\\nSouth Darrellport, IA 18672</td>\n",
       "      <td>dianareese@yahoo.com</td>\n",
       "      <td>1936-03-30</td>\n",
       "    </tr>\n",
       "    <tr>\n",
       "      <th>3</th>\n",
       "      <td>kchapman</td>\n",
       "      <td>Andrew Williams</td>\n",
       "      <td>M</td>\n",
       "      <td>PSC 1761, Box 4280\\nAPO AP 16026</td>\n",
       "      <td>leeamy@hotmail.com</td>\n",
       "      <td>1978-06-23</td>\n",
       "    </tr>\n",
       "    <tr>\n",
       "      <th>4</th>\n",
       "      <td>jacobcarter</td>\n",
       "      <td>Brian Lopez</td>\n",
       "      <td>M</td>\n",
       "      <td>02052 Christopher Walks\\nPort Emily, IN 14626</td>\n",
       "      <td>sellersjason@yahoo.com</td>\n",
       "      <td>2012-07-05</td>\n",
       "    </tr>\n",
       "    <tr>\n",
       "      <th>5</th>\n",
       "      <td>meyerjennifer</td>\n",
       "      <td>Lynn Price</td>\n",
       "      <td>F</td>\n",
       "      <td>619 Michael Route Apt. 937\\nSouth Jeffrey, SD ...</td>\n",
       "      <td>feliciashannon@yahoo.com</td>\n",
       "      <td>1971-06-14</td>\n",
       "    </tr>\n",
       "    <tr>\n",
       "      <th>6</th>\n",
       "      <td>amanda75</td>\n",
       "      <td>Shelley Ruiz</td>\n",
       "      <td>F</td>\n",
       "      <td>91680 Mann Hollow\\nStephanieville, IL 32597</td>\n",
       "      <td>brucemanuel@yahoo.com</td>\n",
       "      <td>1947-08-30</td>\n",
       "    </tr>\n",
       "    <tr>\n",
       "      <th>7</th>\n",
       "      <td>liurobert</td>\n",
       "      <td>Kevin Wilcox</td>\n",
       "      <td>M</td>\n",
       "      <td>77279 Moody Square\\nCindyfort, VT 14235</td>\n",
       "      <td>qclay@yahoo.com</td>\n",
       "      <td>1919-02-07</td>\n",
       "    </tr>\n",
       "    <tr>\n",
       "      <th>8</th>\n",
       "      <td>courtney49</td>\n",
       "      <td>Laura Bowen</td>\n",
       "      <td>F</td>\n",
       "      <td>099 Anderson Orchard\\nDonnashire, DC 78944</td>\n",
       "      <td>andersoncatherine@hotmail.com</td>\n",
       "      <td>2019-09-07</td>\n",
       "    </tr>\n",
       "    <tr>\n",
       "      <th>9</th>\n",
       "      <td>brianedwards</td>\n",
       "      <td>Steven Summers</td>\n",
       "      <td>M</td>\n",
       "      <td>9732 Martin Oval\\nLisahaven, OK 39010</td>\n",
       "      <td>owenkristin@yahoo.com</td>\n",
       "      <td>1975-09-30</td>\n",
       "    </tr>\n",
       "  </tbody>\n",
       "</table>\n",
       "</div>"
      ],
      "text/plain": [
       "        username             name sex  \\\n",
       "0      michael52      Timothy Lee   M   \n",
       "1     pittssarah     Angela Braun   F   \n",
       "2      brandon43     Nicole Huang   F   \n",
       "3       kchapman  Andrew Williams   M   \n",
       "4    jacobcarter      Brian Lopez   M   \n",
       "5  meyerjennifer       Lynn Price   F   \n",
       "6       amanda75     Shelley Ruiz   F   \n",
       "7      liurobert     Kevin Wilcox   M   \n",
       "8     courtney49      Laura Bowen   F   \n",
       "9   brianedwards   Steven Summers   M   \n",
       "\n",
       "                                             address  \\\n",
       "0          50559 Raymond Ford\\nJohnchester, IN 83781   \n",
       "1       38941 Anthony Village\\nNorth Kevin, DE 23411   \n",
       "2  257 Nicholas Squares\\nSouth Darrellport, IA 18672   \n",
       "3                   PSC 1761, Box 4280\\nAPO AP 16026   \n",
       "4      02052 Christopher Walks\\nPort Emily, IN 14626   \n",
       "5  619 Michael Route Apt. 937\\nSouth Jeffrey, SD ...   \n",
       "6        91680 Mann Hollow\\nStephanieville, IL 32597   \n",
       "7            77279 Moody Square\\nCindyfort, VT 14235   \n",
       "8         099 Anderson Orchard\\nDonnashire, DC 78944   \n",
       "9              9732 Martin Oval\\nLisahaven, OK 39010   \n",
       "\n",
       "                            mail   birthdate  \n",
       "0      franklinsabrina@yahoo.com  2000-12-01  \n",
       "1               fsmith@yahoo.com  1983-12-22  \n",
       "2           dianareese@yahoo.com  1936-03-30  \n",
       "3             leeamy@hotmail.com  1978-06-23  \n",
       "4         sellersjason@yahoo.com  2012-07-05  \n",
       "5       feliciashannon@yahoo.com  1971-06-14  \n",
       "6          brucemanuel@yahoo.com  1947-08-30  \n",
       "7                qclay@yahoo.com  1919-02-07  \n",
       "8  andersoncatherine@hotmail.com  2019-09-07  \n",
       "9          owenkristin@yahoo.com  1975-09-30  "
      ]
     },
     "execution_count": 3,
     "metadata": {},
     "output_type": "execute_result"
    }
   ],
   "source": [
    "df"
   ]
  },
  {
   "cell_type": "code",
   "execution_count": null,
   "id": "1b0c0340-ffec-4fb1-b59b-c93f59c484a1",
   "metadata": {},
   "outputs": [],
   "source": []
  }
 ],
 "metadata": {
  "interpreter": {
   "hash": "81c2b4fa8186b1684054c4c10baa01ae13963e9865b12edbe7cf659b7d16f503"
  },
  "kernelspec": {
   "display_name": "Python 3 (ipykernel)",
   "language": "python",
   "name": "python3"
  },
  "language_info": {
   "codemirror_mode": {
    "name": "ipython",
    "version": 3
   },
   "file_extension": ".py",
   "mimetype": "text/x-python",
   "name": "python",
   "nbconvert_exporter": "python",
   "pygments_lexer": "ipython3",
   "version": "3.9.12"
  },
  "metadata": {
   "interpreter": {
    "hash": "cc6df05e281e868f0d80b79375172a1c275a91f2edbb49f4745d4627ea04bf12"
   }
  }
 },
 "nbformat": 4,
 "nbformat_minor": 5
}
